{
 "cells": [
  {
   "cell_type": "markdown",
   "metadata": {},
   "source": [
    "## import read_csv from the pandas to read the data from csv file"
   ]
  },
  {
   "cell_type": "code",
   "execution_count": 1,
   "metadata": {},
   "outputs": [],
   "source": [
    "from pandas import read_csv\n",
    "import numpy"
   ]
  },
  {
   "cell_type": "markdown",
   "metadata": {},
   "source": [
    "## store the data from csv file into the dataset variable and display describe"
   ]
  },
  {
   "cell_type": "code",
   "execution_count": 2,
   "metadata": {},
   "outputs": [
    {
     "name": "stdout",
     "output_type": "stream",
     "text": [
      "               1           2           3          4\n",
      "count     4.0000    5.000000    3.000000    2.00000\n",
      "mean    447.7500   62.400000  810.000000  127.00000\n",
      "std     525.3985   85.818413   57.861905  147.07821\n",
      "min      23.0000    7.000000  768.000000   23.00000\n",
      "25%     179.7500   23.000000  777.000000   75.00000\n",
      "50%     277.5000   23.000000  786.000000  127.00000\n",
      "75%     545.5000   45.000000  831.000000  179.00000\n",
      "max    1213.0000  214.000000  876.000000  231.00000\n"
     ]
    }
   ],
   "source": [
    "dataset = read_csv('test.csv', header=None)\n",
    "print(dataset.describe())"
   ]
  },
  {
   "cell_type": "markdown",
   "metadata": {},
   "source": [
    "## display out the first 5 data in dataset"
   ]
  },
  {
   "cell_type": "code",
   "execution_count": 3,
   "metadata": {},
   "outputs": [
    {
     "name": "stdout",
     "output_type": "stream",
     "text": [
      "       0       1    2      3      4\n",
      "0  apple  1213.0   23  876.0   23.0\n",
      "1   sasi     NaN   23  786.0    NaN\n",
      "2   pesi   323.0   45  768.0    NaN\n",
      "3   cola   232.0    7    NaN  231.0\n",
      "4    NaN    23.0  214    NaN    NaN\n"
     ]
    }
   ],
   "source": [
    "print(dataset.head(5))"
   ]
  },
  {
   "cell_type": "code",
   "execution_count": 4,
   "metadata": {},
   "outputs": [
    {
     "name": "stdout",
     "output_type": "stream",
     "text": [
      "1    0\n",
      "2    0\n",
      "3    0\n",
      "4    0\n",
      "dtype: int64\n"
     ]
    }
   ],
   "source": [
    "print((dataset[[1,2,3,4]] == 0).sum())"
   ]
  },
  {
   "cell_type": "markdown",
   "metadata": {},
   "source": [
    "## Remove the missing value data from the dataset variable"
   ]
  },
  {
   "cell_type": "code",
   "execution_count": 5,
   "metadata": {},
   "outputs": [
    {
     "name": "stdout",
     "output_type": "stream",
     "text": [
      "(1, 5)\n"
     ]
    }
   ],
   "source": [
    "dataset[[1,2,3,4]] = dataset[[1,2,3,4]].replace(0, numpy.NaN)\n",
    "dataset.dropna(inplace=True)\n",
    "print(dataset.shape)"
   ]
  },
  {
   "cell_type": "code",
   "execution_count": 6,
   "metadata": {},
   "outputs": [
    {
     "name": "stdout",
     "output_type": "stream",
     "text": [
      "       0       1   2      3     4\n",
      "0  apple  1213.0  23  876.0  23.0\n"
     ]
    }
   ],
   "source": [
    "print(dataset.head(5))"
   ]
  }
 ],
 "metadata": {
  "kernelspec": {
   "display_name": "Python 3",
   "language": "python",
   "name": "python3"
  },
  "language_info": {
   "codemirror_mode": {
    "name": "ipython",
    "version": 3
   },
   "file_extension": ".py",
   "mimetype": "text/x-python",
   "name": "python",
   "nbconvert_exporter": "python",
   "pygments_lexer": "ipython3",
   "version": "3.7.3"
  }
 },
 "nbformat": 4,
 "nbformat_minor": 2
}
